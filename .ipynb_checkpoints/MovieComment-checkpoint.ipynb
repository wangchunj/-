{
 "cells": [
  {
   "cell_type": "code",
   "execution_count": 1,
   "metadata": {
    "collapsed": true
   },
   "outputs": [],
   "source": [
    "# 引入request库\n",
    "from urllib import request"
   ]
  },
  {
   "cell_type": "markdown",
   "metadata": {},
   "source": [
    "第一步：爬取数据"
   ]
  },
  {
   "cell_type": "code",
   "execution_count": 2,
   "metadata": {
    "collapsed": true
   },
   "outputs": [],
   "source": [
    "resp= request.urlopen('https://movie.douban.com/nowplaying/hangzhou/')"
   ]
  },
  {
   "cell_type": "code",
   "execution_count": 3,
   "metadata": {
    "collapsed": true
   },
   "outputs": [],
   "source": [
    "html_data= resp.read().decode('utf-8')\n",
    "# 编码方式"
   ]
  },
  {
   "cell_type": "markdown",
   "metadata": {},
   "source": [
    "第二步，需要对得到的html代码进行解析，得到里面提取我们需要的数据。python中使用BeautifulSoup库进行html代码的解析。\n",
    "（注：如果没有安装此库，则使用pip install BeautifulSoup进行安装即可！）\n",
    "BeautifulSoup(html,\"html.parser\")第一个参数为需要提取数据的html，第二个参数是指定解析器，然后使用find_all()读取html标签中的内容。"
   ]
  },
  {
   "cell_type": "markdown",
   "metadata": {},
   "source": [
    "但是html中有这么多的标签，该读取哪些标签呢？其实，最简单的办法是我们可以打开我们爬取网页的html代码，然后查看我们需要的数据在哪个html标签里面，再进行读取就可以了。如下图所示"
   ]
  },
  {
   "cell_type": "markdown",
   "metadata": {},
   "source": [
    "可以看出在div id=”nowplaying“标签开始是我们想要的数据，里面有电影的名称、评分、主演等信息。"
   ]
  },
  {
   "cell_type": "code",
   "execution_count": 4,
   "metadata": {
    "collapsed": true
   },
   "outputs": [],
   "source": [
    "from bs4 import BeautifulSoup as bs"
   ]
  },
  {
   "cell_type": "code",
   "execution_count": 5,
   "metadata": {
    "collapsed": true
   },
   "outputs": [],
   "source": [
    "soup= bs(html_data,'html.parser')#解码"
   ]
  },
  {
   "cell_type": "code",
   "execution_count": 6,
   "metadata": {
    "collapsed": true
   },
   "outputs": [],
   "source": [
    "nowplaying_movie= soup.find_all('div',id='nowplaying')"
   ]
  },
  {
   "cell_type": "code",
   "execution_count": 7,
   "metadata": {
    "collapsed": true
   },
   "outputs": [],
   "source": [
    "nowplaying_movie_list= nowplaying_movie[0].find_all('li',\\\n",
    "                       class_='list-item')"
   ]
  },
  {
   "cell_type": "markdown",
   "metadata": {},
   "source": [
    "nowplaying_movie_list 是一个列表，可以用print(nowplaying_movie_list[0])查看里面的内容"
   ]
  },
  {
   "cell_type": "markdown",
   "metadata": {},
   "source": [
    "可以看到data-subject属性里面放了电影的id号码，而在img标签的alt属性里面放了电影的名字，因此我们就通过这两个属性来得到电影的id和名称"
   ]
  },
  {
   "cell_type": "code",
   "execution_count": 8,
   "metadata": {
    "collapsed": true
   },
   "outputs": [],
   "source": [
    "# 指定电影：最新上映的\n",
    "nowplaying_list2= []"
   ]
  },
  {
   "cell_type": "code",
   "execution_count": 9,
   "metadata": {
    "collapsed": true
   },
   "outputs": [],
   "source": [
    "nowplaying_dict2={}\n",
    "movie=nowplaying_movie_list[0]"
   ]
  },
  {
   "cell_type": "code",
   "execution_count": 10,
   "metadata": {
    "collapsed": true
   },
   "outputs": [],
   "source": [
    "nowplaying_dict2['id']=movie['data-subject']"
   ]
  },
  {
   "cell_type": "code",
   "execution_count": 11,
   "metadata": {},
   "outputs": [
    {
     "data": {
      "text/plain": [
       "'无双'"
      ]
     },
     "execution_count": 11,
     "metadata": {},
     "output_type": "execute_result"
    }
   ],
   "source": [
    "name1=movie.find('img')\n",
    "name2=name1['alt']\n",
    "name2"
   ]
  },
  {
   "cell_type": "code",
   "execution_count": 12,
   "metadata": {
    "collapsed": true
   },
   "outputs": [],
   "source": [
    "nowplaying_dict2['name']=name2"
   ]
  },
  {
   "cell_type": "code",
   "execution_count": 13,
   "metadata": {},
   "outputs": [
    {
     "data": {
      "text/plain": [
       "[{'id': '26425063', 'name': '无双'}]"
      ]
     },
     "execution_count": 13,
     "metadata": {},
     "output_type": "execute_result"
    }
   ],
   "source": [
    "nowplaying_list2.append(nowplaying_dict2)\n",
    "nowplaying_list2"
   ]
  },
  {
   "cell_type": "markdown",
   "metadata": {},
   "source": [
    "列表nowplaying_list中就存放了最新电影的id和名称，可以使用print(nowplaying_list)进行查看"
   ]
  },
  {
   "cell_type": "markdown",
   "metadata": {},
   "source": [
    "例如《无双》的短评网址为：https://movie.douban.com/subject/26425063/comments?start=0&limit=20\n",
    "\n",
    "其中26363254就是电影的id，start=0表示评论的第0条评论，limit限制评论条数"
   ]
  },
  {
   "cell_type": "code",
   "execution_count": 14,
   "metadata": {
    "collapsed": true
   },
   "outputs": [],
   "source": [
    "requrl= 'https://movie.douban.com/subject/'+\\\n",
    "         nowplaying_list2[0]['id']+ '/comments'+'?'+\\\n",
    "         'start=0'+ '&limit=20'"
   ]
  },
  {
   "cell_type": "code",
   "execution_count": 15,
   "metadata": {
    "collapsed": true
   },
   "outputs": [],
   "source": [
    "resp= request.urlopen(requrl)#获取网页内容\n",
    "html_data= resp.read().decode('utf-8')#编码\n",
    "soup= bs(html_data,'html.parser') #解码\n",
    "comment_div_lits= soup.find_all('div',class_='comment') #获取评论内容"
   ]
  },
  {
   "cell_type": "code",
   "execution_count": 16,
   "metadata": {},
   "outputs": [
    {
     "data": {
      "text/plain": [
       "[<div class=\"comment\">\n",
       " <h3>\n",
       " <span class=\"comment-vote\">\n",
       " <span class=\"votes\">3721</span>\n",
       " <input type=\"hidden\" value=\"1476217634\"/>\n",
       " <a class=\"j a_show_login\" href=\"javascript:;\" onclick=\"\">有用</a>\n",
       " </span>\n",
       " <span class=\"comment-info\">\n",
       " <a class=\"\" href=\"https://www.douban.com/people/rayland/\">壹安²</a>\n",
       " <span>看过</span>\n",
       " <span class=\"allstar50 rating\" title=\"力荐\"></span>\n",
       " <span class=\"comment-time \" title=\"2018-09-24 22:21:39\">\n",
       "                     2018-09-24\n",
       "                 </span>\n",
       " </span>\n",
       " </h3>\n",
       " <p class=\"\">\n",
       " <span class=\"short\">这几年很欣喜有《树大招风》《追龙》，今年又有这部《无双》，感谢这些导演还能找到初心，让港片无法被取代。剧情终于不再是简单的黑白对垒和人性光辉，主题线的丰富让谎言戳穿的时候，留下最痛的纪念品。最后，重回枪林弹雨的发哥，你一定不能错过。</span>\n",
       " </p>\n",
       " </div>, <div class=\"comment\">\n",
       " <h3>\n",
       " <span class=\"comment-vote\">\n",
       " <span class=\"votes\">2645</span>\n",
       " <input type=\"hidden\" value=\"1475675087\"/>\n",
       " <a class=\"j a_show_login\" href=\"javascript:;\" onclick=\"\">有用</a>\n",
       " </span>\n",
       " <span class=\"comment-info\">\n",
       " <a class=\"\" href=\"https://www.douban.com/people/hexiaoqin/\">三心</a>\n",
       " <span>看过</span>\n",
       " <span class=\"allstar40 rating\" title=\"推荐\"></span>\n",
       " <span class=\"comment-time \" title=\"2018-09-24 10:44:33\">\n",
       "                     2018-09-24\n",
       "                 </span>\n",
       " </span>\n",
       " </h3>\n",
       " <p class=\"\">\n",
       " <span class=\"short\">导演说，拍这部电影是想让现在的年轻人知道，发哥意味着什么——还用问嘛，意味着天下无双的帅啊！！怀揣艺术匠心开创假钞帝国的大亨，乍听有点像奥斯卡路数的枭雄传记片，影片整体那种复古质感也很好。片中周润发多次小马哥附体，颜值，大长腿，最重要的是又雅又痞，风度翩翩，一比这届鲜肉真是弱爆了。郭天王也很好玩，这次演个怂包（伪）。发哥和城城真是强攻&amp;弱受组合，对话完全是个喜剧片（当然两位演技都很棒，搞笑也能立住不垮），看到最后又一切都能说通了，也到最后才知道片名是什么含义。今年国庆档三强，无双、影、李茶的姑妈，居然都是讲一个人的真假身份，有趣。</span>\n",
       " </p>\n",
       " </div>, <div class=\"comment\">\n",
       " <h3>\n",
       " <span class=\"comment-vote\">\n",
       " <span class=\"votes\">1730</span>\n",
       " <input type=\"hidden\" value=\"1478168606\"/>\n",
       " <a class=\"j a_show_login\" href=\"javascript:;\" onclick=\"\">有用</a>\n",
       " </span>\n",
       " <span class=\"comment-info\">\n",
       " <a class=\"\" href=\"https://www.douban.com/people/dreamfox/\">乌鸦火堂</a>\n",
       " <span>看过</span>\n",
       " <span class=\"allstar40 rating\" title=\"推荐\"></span>\n",
       " <span class=\"comment-time \" title=\"2018-09-27 11:39:39\">\n",
       "                     2018-09-27\n",
       "                 </span>\n",
       " </span>\n",
       " </h3>\n",
       " <p class=\"\">\n",
       " <span class=\"short\">“我的价值就是作假！”今年国庆档最佳，伪钞版“战争之王”，庄文强擅长犯罪事件描述和正反角色冲突，缺点是有些啰嗦，故事太细生怕观众看不懂。前半段伪钞制作部分大开眼界，后半段人性矛盾激化，高智商人才却选择造假，耐人寻味。结尾大反转，借鉴了两部好莱坞著名作品，但仍然精彩，瞒天过海、以假乱真。演员都不错，发哥暴走段落致敬黄金时代的英雄片，是这个“真实的故事”中浪漫的情怀之梦</span>\n",
       " </p>\n",
       " </div>, <div class=\"comment\">\n",
       " <h3>\n",
       " <span class=\"comment-vote\">\n",
       " <span class=\"votes\">1284</span>\n",
       " <input type=\"hidden\" value=\"1476605852\"/>\n",
       " <a class=\"j a_show_login\" href=\"javascript:;\" onclick=\"\">有用</a>\n",
       " </span>\n",
       " <span class=\"comment-info\">\n",
       " <a class=\"\" href=\"https://www.douban.com/people/joearde/\">阿德</a>\n",
       " <span>看过</span>\n",
       " <span class=\"allstar40 rating\" title=\"推荐\"></span>\n",
       " <span class=\"comment-time \" title=\"2018-09-25 11:29:35\">\n",
       "                     2018-09-25\n",
       "                 </span>\n",
       " </span>\n",
       " </h3>\n",
       " <p class=\"\">\n",
       " <span class=\"short\">做为一名发哥死忠，终于盼到发哥回归港片，表演上依然是潇洒自如、诙谐逗趣，庄文强对故事和人物的打磨也保持一惯的品质，这才是商业片应有的样子。PS：首映红毯蹲守到发哥了啊啊啊啊！！</span>\n",
       " </p>\n",
       " </div>, <div class=\"comment\">\n",
       " <h3>\n",
       " <span class=\"comment-vote\">\n",
       " <span class=\"votes\">1151</span>\n",
       " <input type=\"hidden\" value=\"1480478483\"/>\n",
       " <a class=\"j a_show_login\" href=\"javascript:;\" onclick=\"\">有用</a>\n",
       " </span>\n",
       " <span class=\"comment-info\">\n",
       " <a class=\"\" href=\"https://www.douban.com/people/zcs1222/\">春天不是赶稿天</a>\n",
       " <span>看过</span>\n",
       " <span class=\"allstar40 rating\" title=\"推荐\"></span>\n",
       " <span class=\"comment-time \" title=\"2018-09-30 11:31:10\">\n",
       "                     2018-09-30\n",
       "                 </span>\n",
       " </span>\n",
       " </h3>\n",
       " <p class=\"\">\n",
       " <span class=\"short\">美术系学生看了会沉默，金融系学生看了会流泪。PS：发哥真的太太太太帅了！！！</span>\n",
       " </p>\n",
       " </div>, <div class=\"comment\">\n",
       " <h3>\n",
       " <span class=\"comment-vote\">\n",
       " <span class=\"votes\">876</span>\n",
       " <input type=\"hidden\" value=\"1480528268\"/>\n",
       " <a class=\"j a_show_login\" href=\"javascript:;\" onclick=\"\">有用</a>\n",
       " </span>\n",
       " <span class=\"comment-info\">\n",
       " <a class=\"\" href=\"https://www.douban.com/people/lingrui1995/\">凌睿</a>\n",
       " <span>看过</span>\n",
       " <span class=\"allstar30 rating\" title=\"还行\"></span>\n",
       " <span class=\"comment-time \" title=\"2018-09-30 12:45:04\">\n",
       "                     2018-09-30\n",
       "                 </span>\n",
       " </span>\n",
       " </h3>\n",
       " <p class=\"\">\n",
       " <span class=\"short\">又名《伪钞制造教程：从入门到入狱》，零基础教学，不限年龄，不限学历，包学包会包就业，还包坐牢！\n",
       " 你可以画出最逼真的假画，可以制造最逼真的假钞，却无法伪造你和阮文的关系。\n",
       " 你可以把秀清变成阮文的模样，却无法让阮文真正喜欢你。\n",
       " 你只顾着拼命赚钱，从不和阮文说说话，约约会，至始至终未曾踏出半步。\n",
       " 而一次冒着生命危险的营救，就让秀清对你私定终身。\n",
       " 你看，并不是没有人喜欢你，而是你从来没有付出实际行动，从来没有让她知道你喜欢她。\n",
       " 你对一面之缘的秀清做得太多，却对心心念念的阮文做得太少。\n",
       " 你以为有了钱就有了一切，可她要的从来都不是巨额存款，而是一句关心的问候，一个温暖的拥抱。\n",
       " 钱能买一栋酒店，一艘游艇，但它买不到爱情。\n",
       " 假画可以卖钱，假钞可以购物，可是假的阮文终究不是你喜欢的那个人。\n",
       " 钞票可以造假，爱情不能造假。</span>\n",
       " </p>\n",
       " </div>, <div class=\"comment\">\n",
       " <h3>\n",
       " <span class=\"comment-vote\">\n",
       " <span class=\"votes\">687</span>\n",
       " <input type=\"hidden\" value=\"1480701254\"/>\n",
       " <a class=\"j a_show_login\" href=\"javascript:;\" onclick=\"\">有用</a>\n",
       " </span>\n",
       " <span class=\"comment-info\">\n",
       " <a class=\"\" href=\"https://www.douban.com/people/diewithme/\">王大根</a>\n",
       " <span>看过</span>\n",
       " <span class=\"allstar30 rating\" title=\"还行\"></span>\n",
       " <span class=\"comment-time \" title=\"2018-09-30 16:28:05\">\n",
       "                     2018-09-30\n",
       "                 </span>\n",
       " </span>\n",
       " </h3>\n",
       " <p class=\"\">\n",
       " <span class=\"short\">如果不算最后的几个转，前面完全就是爱情故事啊！犯罪大佬悉心调教傻白甜穷画家，给买度假酒店给尽情发挥才华，教他追前女友还帮忙弄死未婚夫，宠溺程度直逼晋江小说，酒店按头那段简直下一秒就要强吻了！周润发穿白西装枪战的一节巨巨巨巨巨帅无比，看得我内心疯狂尖叫，还有一身黑色风衣三件套，身材比例击败当代80%小鲜肉，HE STILL GOT IT!</span>\n",
       " </p>\n",
       " </div>, <div class=\"comment\">\n",
       " <h3>\n",
       " <span class=\"comment-vote\">\n",
       " <span class=\"votes\">698</span>\n",
       " <input type=\"hidden\" value=\"1479511185\"/>\n",
       " <a class=\"j a_show_login\" href=\"javascript:;\" onclick=\"\">有用</a>\n",
       " </span>\n",
       " <span class=\"comment-info\">\n",
       " <a class=\"\" href=\"https://www.douban.com/people/88570206/\">芒果</a>\n",
       " <span>看过</span>\n",
       " <span class=\"allstar50 rating\" title=\"力荐\"></span>\n",
       " <span class=\"comment-time \" title=\"2018-09-29 01:31:42\">\n",
       "                     2018-09-29\n",
       "                 </span>\n",
       " </span>\n",
       " </h3>\n",
       " <p class=\"\">\n",
       " <span class=\"short\">目测这是国庆档最大赢家。因为其它几部太烂……</span>\n",
       " </p>\n",
       " </div>, <div class=\"comment\">\n",
       " <h3>\n",
       " <span class=\"comment-vote\">\n",
       " <span class=\"votes\">483</span>\n",
       " <input type=\"hidden\" value=\"1480366044\"/>\n",
       " <a class=\"j a_show_login\" href=\"javascript:;\" onclick=\"\">有用</a>\n",
       " </span>\n",
       " <span class=\"comment-info\">\n",
       " <a class=\"\" href=\"https://www.douban.com/people/qijiuzhiyue/\">桃桃淘电影</a>\n",
       " <span>看过</span>\n",
       " <span class=\"allstar30 rating\" title=\"还行\"></span>\n",
       " <span class=\"comment-time \" title=\"2018-09-30 08:39:23\">\n",
       "                     2018-09-30\n",
       "                 </span>\n",
       " </span>\n",
       " </h3>\n",
       " <p class=\"\">\n",
       " <span class=\"short\">7，如此细致描绘伪钞制作过程，还是非常有趣的。周润发的表演，也是近几年他发挥非常出色的一次，魅力十足。尤其是，导演还专门做了一些动作场面，来致敬昔日的发哥，也是迷弟的心愿了。剧情也是一个特别大的讨论点，虽然，可能会被认为是借鉴其他影片，不过，作为一部真与假的电影，倒也算对应，片子也有意讲了很多主角或替身的暗示。真正的遗憾其实是，后面有些地方没有圆得那么完满。</span>\n",
       " </p>\n",
       " </div>, <div class=\"comment\">\n",
       " <h3>\n",
       " <span class=\"comment-vote\">\n",
       " <span class=\"votes\">534</span>\n",
       " <input type=\"hidden\" value=\"1480753275\"/>\n",
       " <a class=\"j a_show_login\" href=\"javascript:;\" onclick=\"\">有用</a>\n",
       " </span>\n",
       " <span class=\"comment-info\">\n",
       " <a class=\"\" href=\"https://www.douban.com/people/mr_tree/\">凹凸</a>\n",
       " <span>看过</span>\n",
       " <span class=\"allstar30 rating\" title=\"还行\"></span>\n",
       " <span class=\"comment-time \" title=\"2018-09-30 17:33:58\">\n",
       "                     2018-09-30\n",
       "                 </span>\n",
       " </span>\n",
       " </h3>\n",
       " <p class=\"\">\n",
       " <span class=\"short\">郭富城这个角色 当个画家太可惜了 内心明明住了一个耽美写手 脑补出一整部兄贵养成文</span>\n",
       " </p>\n",
       " </div>, <div class=\"comment\">\n",
       " <h3>\n",
       " <span class=\"comment-vote\">\n",
       " <span class=\"votes\">523</span>\n",
       " <input type=\"hidden\" value=\"1480203835\"/>\n",
       " <a class=\"j a_show_login\" href=\"javascript:;\" onclick=\"\">有用</a>\n",
       " </span>\n",
       " <span class=\"comment-info\">\n",
       " <a class=\"\" href=\"https://www.douban.com/people/149302167/\">冬梅</a>\n",
       " <span>看过</span>\n",
       " <span class=\"allstar40 rating\" title=\"推荐\"></span>\n",
       " <span class=\"comment-time \" title=\"2018-09-29 23:33:54\">\n",
       "                     2018-09-29\n",
       "                 </span>\n",
       " </span>\n",
       " </h3>\n",
       " <p class=\"\">\n",
       " <span class=\"short\">越是轻蔑《无双》，越会被它俘虏。起初看预告的时候觉得烂片，结果看完以后啪啪打脸。想起庄文强采访时说的一句话，“人人都说‘港片已死’，我都没有死，港片怎么会死。”是呀，有庄文强在，港片怎么会死！</span>\n",
       " </p>\n",
       " </div>, <div class=\"comment\">\n",
       " <h3>\n",
       " <span class=\"comment-vote\">\n",
       " <span class=\"votes\">457</span>\n",
       " <input type=\"hidden\" value=\"1480101816\"/>\n",
       " <a class=\"j a_show_login\" href=\"javascript:;\" onclick=\"\">有用</a>\n",
       " </span>\n",
       " <span class=\"comment-info\">\n",
       " <a class=\"\" href=\"https://www.douban.com/people/62427044/\">圈筱米</a>\n",
       " <span>看过</span>\n",
       " <span class=\"allstar40 rating\" title=\"推荐\"></span>\n",
       " <span class=\"comment-time \" title=\"2018-09-29 21:42:11\">\n",
       "                     2018-09-29\n",
       "                 </span>\n",
       " </span>\n",
       " </h3>\n",
       " <p class=\"\">\n",
       " <span class=\"short\">比《影》好看哇，周润发完全压制郭富城，全程高能，看得过瘾。没想到印假钞是个技术如此精湛的活...</span>\n",
       " </p>\n",
       " </div>, <div class=\"comment\">\n",
       " <h3>\n",
       " <span class=\"comment-vote\">\n",
       " <span class=\"votes\">418</span>\n",
       " <input type=\"hidden\" value=\"1468589393\"/>\n",
       " <a class=\"j a_show_login\" href=\"javascript:;\" onclick=\"\">有用</a>\n",
       " </span>\n",
       " <span class=\"comment-info\">\n",
       " <a class=\"\" href=\"https://www.douban.com/people/82851049/\">熊吉君</a>\n",
       " <span>看过</span>\n",
       " <span class=\"allstar40 rating\" title=\"推荐\"></span>\n",
       " <span class=\"comment-time \" title=\"2018-09-30 09:17:15\">\n",
       "                     2018-09-30\n",
       "                 </span>\n",
       " </span>\n",
       " </h3>\n",
       " <p class=\"\">\n",
       " <span class=\"short\">郭富城演怂逼演的真好！</span>\n",
       " </p>\n",
       " </div>, <div class=\"comment\">\n",
       " <h3>\n",
       " <span class=\"comment-vote\">\n",
       " <span class=\"votes\">376</span>\n",
       " <input type=\"hidden\" value=\"1480382312\"/>\n",
       " <a class=\"j a_show_login\" href=\"javascript:;\" onclick=\"\">有用</a>\n",
       " </span>\n",
       " <span class=\"comment-info\">\n",
       " <a class=\"\" href=\"https://www.douban.com/people/heshamode500tia/\">Way湛炜</a>\n",
       " <span>看过</span>\n",
       " <span class=\"allstar40 rating\" title=\"推荐\"></span>\n",
       " <span class=\"comment-time \" title=\"2018-09-30 09:11:29\">\n",
       "                     2018-09-30\n",
       "                 </span>\n",
       " </span>\n",
       " </h3>\n",
       " <p class=\"\">\n",
       " <span class=\"short\">優雅又殘忍，發哥太迷人。</span>\n",
       " </p>\n",
       " </div>, <div class=\"comment\">\n",
       " <h3>\n",
       " <span class=\"comment-vote\">\n",
       " <span class=\"votes\">270</span>\n",
       " <input type=\"hidden\" value=\"1480716608\"/>\n",
       " <a class=\"j a_show_login\" href=\"javascript:;\" onclick=\"\">有用</a>\n",
       " </span>\n",
       " <span class=\"comment-info\">\n",
       " <a class=\"\" href=\"https://www.douban.com/people/115120270/\">晋无颜以对</a>\n",
       " <span>看过</span>\n",
       " <span class=\"allstar10 rating\" title=\"很差\"></span>\n",
       " <span class=\"comment-time \" title=\"2018-09-30 16:46:53\">\n",
       "                     2018-09-30\n",
       "                 </span>\n",
       " </span>\n",
       " </h3>\n",
       " <p class=\"\">\n",
       " <span class=\"short\">一帮技术宅男跑去炸金三角基地，编剧你真敢想啊</span>\n",
       " </p>\n",
       " </div>, <div class=\"comment\">\n",
       " <h3>\n",
       " <span class=\"comment-vote\">\n",
       " <span class=\"votes\">270</span>\n",
       " <input type=\"hidden\" value=\"1480271089\"/>\n",
       " <a class=\"j a_show_login\" href=\"javascript:;\" onclick=\"\">有用</a>\n",
       " </span>\n",
       " <span class=\"comment-info\">\n",
       " <a class=\"\" href=\"https://www.douban.com/people/169952348/\">MyLoveIsCool</a>\n",
       " <span>看过</span>\n",
       " <span class=\"allstar50 rating\" title=\"力荐\"></span>\n",
       " <span class=\"comment-time \" title=\"2018-09-30 01:08:01\">\n",
       "                     2018-09-30\n",
       "                 </span>\n",
       " </span>\n",
       " </h3>\n",
       " <p class=\"\">\n",
       " <span class=\"short\">超出预期，应该是国庆档中最喜欢的一部，非常嫌疑犯版阳光灿烂的日子。说这是非常嫌疑犯玩剩下的老梗其实对庄文强挺不公平的，无双里的反转也许没有非常嫌疑犯里那么精致和到位，但它是带着主题表达的。</span>\n",
       " </p>\n",
       " </div>, <div class=\"comment\">\n",
       " <h3>\n",
       " <span class=\"comment-vote\">\n",
       " <span class=\"votes\">225</span>\n",
       " <input type=\"hidden\" value=\"1481009086\"/>\n",
       " <a class=\"j a_show_login\" href=\"javascript:;\" onclick=\"\">有用</a>\n",
       " </span>\n",
       " <span class=\"comment-info\">\n",
       " <a class=\"\" href=\"https://www.douban.com/people/veverlee/\">内陆飞鱼</a>\n",
       " <span>看过</span>\n",
       " <span class=\"allstar40 rating\" title=\"推荐\"></span>\n",
       " <span class=\"comment-time \" title=\"2018-09-30 22:22:30\">\n",
       "                     2018-09-30\n",
       "                 </span>\n",
       " </span>\n",
       " </h3>\n",
       " <p class=\"\">\n",
       " <span class=\"short\">《无双》是一部有智商的电影，好久没见这么讲究的港片了，庄文强回到他擅长的一波三折的路线，郭富城饰演这个角色很颠覆，华语电影里比较少见，具有非常精巧的隐蔽性，看似人畜无害实际上可能运筹帷幄，这几年演惯喜剧的发哥在正剧里也气场强大，不遑多让。你看到假钞可能是真钞，你看到名画可能是假画，你身边的爱人可能是假爱人，演员没有人格分裂，观众要看得人格分裂了，眼前的一切还有什么是真的吗？最后一刻见真相。</span>\n",
       " </p>\n",
       " </div>, <div class=\"comment\">\n",
       " <h3>\n",
       " <span class=\"comment-vote\">\n",
       " <span class=\"votes\">194</span>\n",
       " <input type=\"hidden\" value=\"1480553146\"/>\n",
       " <a class=\"j a_show_login\" href=\"javascript:;\" onclick=\"\">有用</a>\n",
       " </span>\n",
       " <span class=\"comment-info\">\n",
       " <a class=\"\" href=\"https://www.douban.com/people/163723565/\">？</a>\n",
       " <span>看过</span>\n",
       " <span class=\"allstar10 rating\" title=\"很差\"></span>\n",
       " <span class=\"comment-time \" title=\"2018-09-30 13:19:04\">\n",
       "                     2018-09-30\n",
       "                 </span>\n",
       " </span>\n",
       " </h3>\n",
       " <p class=\"\">\n",
       " <span class=\"short\">港片已经衰弱了   ，可以说是差不多死了</span>\n",
       " </p>\n",
       " </div>, <div class=\"comment\">\n",
       " <h3>\n",
       " <span class=\"comment-vote\">\n",
       " <span class=\"votes\">165</span>\n",
       " <input type=\"hidden\" value=\"1466591802\"/>\n",
       " <a class=\"j a_show_login\" href=\"javascript:;\" onclick=\"\">有用</a>\n",
       " </span>\n",
       " <span class=\"comment-info\">\n",
       " <a class=\"\" href=\"https://www.douban.com/people/138510043/\">樱语</a>\n",
       " <span>看过</span>\n",
       " <span class=\"allstar10 rating\" title=\"很差\"></span>\n",
       " <span class=\"comment-time \" title=\"2018-09-30 16:52:33\">\n",
       "                     2018-09-30\n",
       "                 </span>\n",
       " </span>\n",
       " </h3>\n",
       " <p class=\"\">\n",
       " <span class=\"short\">失望，后面的反转什么玩意儿，是剧情圆不过来了吗？现在都电子支付，假钞这玩意儿，还有多大的生存空间，脱离的现实，港片落幕</span>\n",
       " </p>\n",
       " </div>, <div class=\"comment\">\n",
       " <h3>\n",
       " <span class=\"comment-vote\">\n",
       " <span class=\"votes\">198</span>\n",
       " <input type=\"hidden\" value=\"1473522142\"/>\n",
       " <a class=\"j a_show_login\" href=\"javascript:;\" onclick=\"\">有用</a>\n",
       " </span>\n",
       " <span class=\"comment-info\">\n",
       " <a class=\"\" href=\"https://www.douban.com/people/misterinfamous/\">Mr. Infamous</a>\n",
       " <span>看过</span>\n",
       " <span class=\"allstar50 rating\" title=\"力荐\"></span>\n",
       " <span class=\"comment-time \" title=\"2018-09-21 22:23:14\">\n",
       "                     2018-09-21\n",
       "                 </span>\n",
       " </span>\n",
       " </h3>\n",
       " <p class=\"\">\n",
       " <span class=\"short\">首映放了配音，很冒险，相当于把最本真的表演，全都压在张静初身上（后半段才演出味道），而弃用了郭富城周润发廖启智周家怡等戏骨王牌。八九十年代叫人迷恋的周润发，以一种既恋旧又升级的形式呈现，而郭富城遇到另一高手，总能先让三分，然后再夺五分，厉害得很。二人的对手戏，很有遐想空间，但笑过之后回味，又觉微妙。映后庄文强将之形容为“自恋”，更是精当。也真不愧是庄文强，糟糕配音也盖不住故事的筋道，你以为他夹生的露怯的地方，原来全是伏笔。而且看完才明白，“无双”还真不是一开始所想的那般狭隘。发哥和城城，都遇到了近年最好的剧本。@人民大学，映后还有发哥发嫂暖融融地亮相。四星半，撑下优质港片。会去刷一遍原声。</span>\n",
       " </p>\n",
       " </div>]"
      ]
     },
     "execution_count": 16,
     "metadata": {},
     "output_type": "execute_result"
    }
   ],
   "source": [
    "comment_div_lits\n",
    "# type(comment_div_lits) #bs4.element.ResultSet 测试"
   ]
  },
  {
   "cell_type": "markdown",
   "metadata": {},
   "source": [
    "在comment_div_lits 列表中存放的就是div标签和comment属性下面的html代码了。在上图中还可以发现在p标签下面存放了网友对电影的评论"
   ]
  },
  {
   "cell_type": "code",
   "execution_count": 17,
   "metadata": {
    "scrolled": true
   },
   "outputs": [
    {
     "name": "stdout",
     "output_type": "stream",
     "text": [
      "<p class=\"\">\n",
      "<span class=\"short\">这几年很欣喜有《树大招风》《追龙》，今年又有这部《无双》，感谢这些导演还能找到初心，让港片无法被取代。剧情终于不再是简单的黑白对垒和人性光辉，主题线的丰富让谎言戳穿的时候，留下最痛的纪念品。最后，重回枪林弹雨的发哥，你一定不能错过。</span>\n",
      "</p>\n",
      "<p class=\"\">\n",
      "<span class=\"short\">导演说，拍这部电影是想让现在的年轻人知道，发哥意味着什么——还用问嘛，意味着天下无双的帅啊！！怀揣艺术匠心开创假钞帝国的大亨，乍听有点像奥斯卡路数的枭雄传记片，影片整体那种复古质感也很好。片中周润发多次小马哥附体，颜值，大长腿，最重要的是又雅又痞，风度翩翩，一比这届鲜肉真是弱爆了。郭天王也很好玩，这次演个怂包（伪）。发哥和城城真是强攻&amp;弱受组合，对话完全是个喜剧片（当然两位演技都很棒，搞笑也能立住不垮），看到最后又一切都能说通了，也到最后才知道片名是什么含义。今年国庆档三强，无双、影、李茶的姑妈，居然都是讲一个人的真假身份，有趣。</span>\n",
      "</p>\n",
      "<p class=\"\">\n",
      "<span class=\"short\">“我的价值就是作假！”今年国庆档最佳，伪钞版“战争之王”，庄文强擅长犯罪事件描述和正反角色冲突，缺点是有些啰嗦，故事太细生怕观众看不懂。前半段伪钞制作部分大开眼界，后半段人性矛盾激化，高智商人才却选择造假，耐人寻味。结尾大反转，借鉴了两部好莱坞著名作品，但仍然精彩，瞒天过海、以假乱真。演员都不错，发哥暴走段落致敬黄金时代的英雄片，是这个“真实的故事”中浪漫的情怀之梦</span>\n",
      "</p>\n",
      "<p class=\"\">\n",
      "<span class=\"short\">做为一名发哥死忠，终于盼到发哥回归港片，表演上依然是潇洒自如、诙谐逗趣，庄文强对故事和人物的打磨也保持一惯的品质，这才是商业片应有的样子。PS：首映红毯蹲守到发哥了啊啊啊啊！！</span>\n",
      "</p>\n",
      "<p class=\"\">\n",
      "<span class=\"short\">美术系学生看了会沉默，金融系学生看了会流泪。PS：发哥真的太太太太帅了！！！</span>\n",
      "</p>\n",
      "<p class=\"\">\n",
      "<span class=\"short\">又名《伪钞制造教程：从入门到入狱》，零基础教学，不限年龄，不限学历，包学包会包就业，还包坐牢！\n",
      "你可以画出最逼真的假画，可以制造最逼真的假钞，却无法伪造你和阮文的关系。\n",
      "你可以把秀清变成阮文的模样，却无法让阮文真正喜欢你。\n",
      "你只顾着拼命赚钱，从不和阮文说说话，约约会，至始至终未曾踏出半步。\n",
      "而一次冒着生命危险的营救，就让秀清对你私定终身。\n",
      "你看，并不是没有人喜欢你，而是你从来没有付出实际行动，从来没有让她知道你喜欢她。\n",
      "你对一面之缘的秀清做得太多，却对心心念念的阮文做得太少。\n",
      "你以为有了钱就有了一切，可她要的从来都不是巨额存款，而是一句关心的问候，一个温暖的拥抱。\n",
      "钱能买一栋酒店，一艘游艇，但它买不到爱情。\n",
      "假画可以卖钱，假钞可以购物，可是假的阮文终究不是你喜欢的那个人。\n",
      "钞票可以造假，爱情不能造假。</span>\n",
      "</p>\n",
      "<p class=\"\">\n",
      "<span class=\"short\">如果不算最后的几个转，前面完全就是爱情故事啊！犯罪大佬悉心调教傻白甜穷画家，给买度假酒店给尽情发挥才华，教他追前女友还帮忙弄死未婚夫，宠溺程度直逼晋江小说，酒店按头那段简直下一秒就要强吻了！周润发穿白西装枪战的一节巨巨巨巨巨帅无比，看得我内心疯狂尖叫，还有一身黑色风衣三件套，身材比例击败当代80%小鲜肉，HE STILL GOT IT!</span>\n",
      "</p>\n",
      "<p class=\"\">\n",
      "<span class=\"short\">目测这是国庆档最大赢家。因为其它几部太烂……</span>\n",
      "</p>\n",
      "<p class=\"\">\n",
      "<span class=\"short\">7，如此细致描绘伪钞制作过程，还是非常有趣的。周润发的表演，也是近几年他发挥非常出色的一次，魅力十足。尤其是，导演还专门做了一些动作场面，来致敬昔日的发哥，也是迷弟的心愿了。剧情也是一个特别大的讨论点，虽然，可能会被认为是借鉴其他影片，不过，作为一部真与假的电影，倒也算对应，片子也有意讲了很多主角或替身的暗示。真正的遗憾其实是，后面有些地方没有圆得那么完满。</span>\n",
      "</p>\n",
      "<p class=\"\">\n",
      "<span class=\"short\">郭富城这个角色 当个画家太可惜了 内心明明住了一个耽美写手 脑补出一整部兄贵养成文</span>\n",
      "</p>\n",
      "<p class=\"\">\n",
      "<span class=\"short\">越是轻蔑《无双》，越会被它俘虏。起初看预告的时候觉得烂片，结果看完以后啪啪打脸。想起庄文强采访时说的一句话，“人人都说‘港片已死’，我都没有死，港片怎么会死。”是呀，有庄文强在，港片怎么会死！</span>\n",
      "</p>\n",
      "<p class=\"\">\n",
      "<span class=\"short\">比《影》好看哇，周润发完全压制郭富城，全程高能，看得过瘾。没想到印假钞是个技术如此精湛的活...</span>\n",
      "</p>\n",
      "<p class=\"\">\n",
      "<span class=\"short\">郭富城演怂逼演的真好！</span>\n",
      "</p>\n",
      "<p class=\"\">\n",
      "<span class=\"short\">優雅又殘忍，發哥太迷人。</span>\n",
      "</p>\n",
      "<p class=\"\">\n",
      "<span class=\"short\">一帮技术宅男跑去炸金三角基地，编剧你真敢想啊</span>\n",
      "</p>\n",
      "<p class=\"\">\n",
      "<span class=\"short\">超出预期，应该是国庆档中最喜欢的一部，非常嫌疑犯版阳光灿烂的日子。说这是非常嫌疑犯玩剩下的老梗其实对庄文强挺不公平的，无双里的反转也许没有非常嫌疑犯里那么精致和到位，但它是带着主题表达的。</span>\n",
      "</p>\n",
      "<p class=\"\">\n",
      "<span class=\"short\">《无双》是一部有智商的电影，好久没见这么讲究的港片了，庄文强回到他擅长的一波三折的路线，郭富城饰演这个角色很颠覆，华语电影里比较少见，具有非常精巧的隐蔽性，看似人畜无害实际上可能运筹帷幄，这几年演惯喜剧的发哥在正剧里也气场强大，不遑多让。你看到假钞可能是真钞，你看到名画可能是假画，你身边的爱人可能是假爱人，演员没有人格分裂，观众要看得人格分裂了，眼前的一切还有什么是真的吗？最后一刻见真相。</span>\n",
      "</p>\n",
      "<p class=\"\">\n",
      "<span class=\"short\">港片已经衰弱了   ，可以说是差不多死了</span>\n",
      "</p>\n",
      "<p class=\"\">\n",
      "<span class=\"short\">失望，后面的反转什么玩意儿，是剧情圆不过来了吗？现在都电子支付，假钞这玩意儿，还有多大的生存空间，脱离的现实，港片落幕</span>\n",
      "</p>\n",
      "<p class=\"\">\n",
      "<span class=\"short\">首映放了配音，很冒险，相当于把最本真的表演，全都压在张静初身上（后半段才演出味道），而弃用了郭富城周润发廖启智周家怡等戏骨王牌。八九十年代叫人迷恋的周润发，以一种既恋旧又升级的形式呈现，而郭富城遇到另一高手，总能先让三分，然后再夺五分，厉害得很。二人的对手戏，很有遐想空间，但笑过之后回味，又觉微妙。映后庄文强将之形容为“自恋”，更是精当。也真不愧是庄文强，糟糕配音也盖不住故事的筋道，你以为他夹生的露怯的地方，原来全是伏笔。而且看完才明白，“无双”还真不是一开始所想的那般狭隘。发哥和城城，都遇到了近年最好的剧本。@人民大学，映后还有发哥发嫂暖融融地亮相。四星半，撑下优质港片。会去刷一遍原声。</span>\n",
      "</p>\n"
     ]
    }
   ],
   "source": [
    "for item1 in comment_div_lits:\n",
    "    print(item1.find_all('p')[0])\n",
    "#.string 为None"
   ]
  },
  {
   "cell_type": "code",
   "execution_count": 18,
   "metadata": {
    "collapsed": true
   },
   "outputs": [],
   "source": [
    "# print(item1.find_all('p'))限制的20条中的最后一条 测试"
   ]
  },
  {
   "cell_type": "code",
   "execution_count": 19,
   "metadata": {
    "collapsed": true
   },
   "outputs": [],
   "source": [
    "# 将评论内容放进列表中\n",
    "eachCommentList= [];\n",
    "for item in comment_div_lits:\n",
    "    if item.find_all('p')[0] is not None:\n",
    "        eachCommentList.append(item.find_all('p')[0])"
   ]
  },
  {
   "cell_type": "markdown",
   "metadata": {},
   "source": [
    "使用print(eachCommentList)查看eachCommentList列表中的内容，可以看到里面存里我们想要的影评。"
   ]
  },
  {
   "cell_type": "code",
   "execution_count": 20,
   "metadata": {
    "scrolled": true
   },
   "outputs": [
    {
     "name": "stdout",
     "output_type": "stream",
     "text": [
      "[<p class=\"\">\n",
      "<span class=\"short\">这几年很欣喜有《树大招风》《追龙》，今年又有这部《无双》，感谢这些导演还能找到初心，让港片无法被取代。剧情终于不再是简单的黑白对垒和人性光辉，主题线的丰富让谎言戳穿的时候，留下最痛的纪念品。最后，重回枪林弹雨的发哥，你一定不能错过。</span>\n",
      "</p>, <p class=\"\">\n",
      "<span class=\"short\">导演说，拍这部电影是想让现在的年轻人知道，发哥意味着什么——还用问嘛，意味着天下无双的帅啊！！怀揣艺术匠心开创假钞帝国的大亨，乍听有点像奥斯卡路数的枭雄传记片，影片整体那种复古质感也很好。片中周润发多次小马哥附体，颜值，大长腿，最重要的是又雅又痞，风度翩翩，一比这届鲜肉真是弱爆了。郭天王也很好玩，这次演个怂包（伪）。发哥和城城真是强攻&amp;弱受组合，对话完全是个喜剧片（当然两位演技都很棒，搞笑也能立住不垮），看到最后又一切都能说通了，也到最后才知道片名是什么含义。今年国庆档三强，无双、影、李茶的姑妈，居然都是讲一个人的真假身份，有趣。</span>\n",
      "</p>, <p class=\"\">\n",
      "<span class=\"short\">“我的价值就是作假！”今年国庆档最佳，伪钞版“战争之王”，庄文强擅长犯罪事件描述和正反角色冲突，缺点是有些啰嗦，故事太细生怕观众看不懂。前半段伪钞制作部分大开眼界，后半段人性矛盾激化，高智商人才却选择造假，耐人寻味。结尾大反转，借鉴了两部好莱坞著名作品，但仍然精彩，瞒天过海、以假乱真。演员都不错，发哥暴走段落致敬黄金时代的英雄片，是这个“真实的故事”中浪漫的情怀之梦</span>\n",
      "</p>, <p class=\"\">\n",
      "<span class=\"short\">做为一名发哥死忠，终于盼到发哥回归港片，表演上依然是潇洒自如、诙谐逗趣，庄文强对故事和人物的打磨也保持一惯的品质，这才是商业片应有的样子。PS：首映红毯蹲守到发哥了啊啊啊啊！！</span>\n",
      "</p>, <p class=\"\">\n",
      "<span class=\"short\">美术系学生看了会沉默，金融系学生看了会流泪。PS：发哥真的太太太太帅了！！！</span>\n",
      "</p>, <p class=\"\">\n",
      "<span class=\"short\">又名《伪钞制造教程：从入门到入狱》，零基础教学，不限年龄，不限学历，包学包会包就业，还包坐牢！\n",
      "你可以画出最逼真的假画，可以制造最逼真的假钞，却无法伪造你和阮文的关系。\n",
      "你可以把秀清变成阮文的模样，却无法让阮文真正喜欢你。\n",
      "你只顾着拼命赚钱，从不和阮文说说话，约约会，至始至终未曾踏出半步。\n",
      "而一次冒着生命危险的营救，就让秀清对你私定终身。\n",
      "你看，并不是没有人喜欢你，而是你从来没有付出实际行动，从来没有让她知道你喜欢她。\n",
      "你对一面之缘的秀清做得太多，却对心心念念的阮文做得太少。\n",
      "你以为有了钱就有了一切，可她要的从来都不是巨额存款，而是一句关心的问候，一个温暖的拥抱。\n",
      "钱能买一栋酒店，一艘游艇，但它买不到爱情。\n",
      "假画可以卖钱，假钞可以购物，可是假的阮文终究不是你喜欢的那个人。\n",
      "钞票可以造假，爱情不能造假。</span>\n",
      "</p>, <p class=\"\">\n",
      "<span class=\"short\">如果不算最后的几个转，前面完全就是爱情故事啊！犯罪大佬悉心调教傻白甜穷画家，给买度假酒店给尽情发挥才华，教他追前女友还帮忙弄死未婚夫，宠溺程度直逼晋江小说，酒店按头那段简直下一秒就要强吻了！周润发穿白西装枪战的一节巨巨巨巨巨帅无比，看得我内心疯狂尖叫，还有一身黑色风衣三件套，身材比例击败当代80%小鲜肉，HE STILL GOT IT!</span>\n",
      "</p>, <p class=\"\">\n",
      "<span class=\"short\">目测这是国庆档最大赢家。因为其它几部太烂……</span>\n",
      "</p>, <p class=\"\">\n",
      "<span class=\"short\">7，如此细致描绘伪钞制作过程，还是非常有趣的。周润发的表演，也是近几年他发挥非常出色的一次，魅力十足。尤其是，导演还专门做了一些动作场面，来致敬昔日的发哥，也是迷弟的心愿了。剧情也是一个特别大的讨论点，虽然，可能会被认为是借鉴其他影片，不过，作为一部真与假的电影，倒也算对应，片子也有意讲了很多主角或替身的暗示。真正的遗憾其实是，后面有些地方没有圆得那么完满。</span>\n",
      "</p>, <p class=\"\">\n",
      "<span class=\"short\">郭富城这个角色 当个画家太可惜了 内心明明住了一个耽美写手 脑补出一整部兄贵养成文</span>\n",
      "</p>, <p class=\"\">\n",
      "<span class=\"short\">越是轻蔑《无双》，越会被它俘虏。起初看预告的时候觉得烂片，结果看完以后啪啪打脸。想起庄文强采访时说的一句话，“人人都说‘港片已死’，我都没有死，港片怎么会死。”是呀，有庄文强在，港片怎么会死！</span>\n",
      "</p>, <p class=\"\">\n",
      "<span class=\"short\">比《影》好看哇，周润发完全压制郭富城，全程高能，看得过瘾。没想到印假钞是个技术如此精湛的活...</span>\n",
      "</p>, <p class=\"\">\n",
      "<span class=\"short\">郭富城演怂逼演的真好！</span>\n",
      "</p>, <p class=\"\">\n",
      "<span class=\"short\">優雅又殘忍，發哥太迷人。</span>\n",
      "</p>, <p class=\"\">\n",
      "<span class=\"short\">一帮技术宅男跑去炸金三角基地，编剧你真敢想啊</span>\n",
      "</p>, <p class=\"\">\n",
      "<span class=\"short\">超出预期，应该是国庆档中最喜欢的一部，非常嫌疑犯版阳光灿烂的日子。说这是非常嫌疑犯玩剩下的老梗其实对庄文强挺不公平的，无双里的反转也许没有非常嫌疑犯里那么精致和到位，但它是带着主题表达的。</span>\n",
      "</p>, <p class=\"\">\n",
      "<span class=\"short\">《无双》是一部有智商的电影，好久没见这么讲究的港片了，庄文强回到他擅长的一波三折的路线，郭富城饰演这个角色很颠覆，华语电影里比较少见，具有非常精巧的隐蔽性，看似人畜无害实际上可能运筹帷幄，这几年演惯喜剧的发哥在正剧里也气场强大，不遑多让。你看到假钞可能是真钞，你看到名画可能是假画，你身边的爱人可能是假爱人，演员没有人格分裂，观众要看得人格分裂了，眼前的一切还有什么是真的吗？最后一刻见真相。</span>\n",
      "</p>, <p class=\"\">\n",
      "<span class=\"short\">港片已经衰弱了   ，可以说是差不多死了</span>\n",
      "</p>, <p class=\"\">\n",
      "<span class=\"short\">失望，后面的反转什么玩意儿，是剧情圆不过来了吗？现在都电子支付，假钞这玩意儿，还有多大的生存空间，脱离的现实，港片落幕</span>\n",
      "</p>, <p class=\"\">\n",
      "<span class=\"short\">首映放了配音，很冒险，相当于把最本真的表演，全都压在张静初身上（后半段才演出味道），而弃用了郭富城周润发廖启智周家怡等戏骨王牌。八九十年代叫人迷恋的周润发，以一种既恋旧又升级的形式呈现，而郭富城遇到另一高手，总能先让三分，然后再夺五分，厉害得很。二人的对手戏，很有遐想空间，但笑过之后回味，又觉微妙。映后庄文强将之形容为“自恋”，更是精当。也真不愧是庄文强，糟糕配音也盖不住故事的筋道，你以为他夹生的露怯的地方，原来全是伏笔。而且看完才明白，“无双”还真不是一开始所想的那般狭隘。发哥和城城，都遇到了近年最好的剧本。@人民大学，映后还有发哥发嫂暖融融地亮相。四星半，撑下优质港片。会去刷一遍原声。</span>\n",
      "</p>]\n"
     ]
    }
   ],
   "source": [
    "print(eachCommentList)"
   ]
  },
  {
   "cell_type": "markdown",
   "metadata": {},
   "source": [
    "二、数据清洗\n",
    "\n",
    "为了方便进行数据进行清洗，我们将列表中的数据放在一个字符串数组中，代码如下："
   ]
  },
  {
   "cell_type": "code",
   "execution_count": 21,
   "metadata": {
    "collapsed": true
   },
   "outputs": [],
   "source": [
    "comments= ''\n",
    "for k in range(len(eachCommentList)):\n",
    "    comments= comments+ (str(eachCommentList[k])).strip()"
   ]
  },
  {
   "cell_type": "code",
   "execution_count": 22,
   "metadata": {},
   "outputs": [
    {
     "name": "stdout",
     "output_type": "stream",
     "text": [
      "<p class=\"\">\n",
      "<span class=\"short\">这几年很欣喜有《树大招风》《追龙》，今年又有这部《无双》，感谢这些导演还能找到初心，让港片无法被取代。剧情终于不再是简单的黑白对垒和人性光辉，主题线的丰富让谎言戳穿的时候，留下最痛的纪念品。最后，重回枪林弹雨的发哥，你一定不能错过。</span>\n",
      "</p><p class=\"\">\n",
      "<span class=\"short\">导演说，拍这部电影是想让现在的年轻人知道，发哥意味着什么——还用问嘛，意味着天下无双的帅啊！！怀揣艺术匠心开创假钞帝国的大亨，乍听有点像奥斯卡路数的枭雄传记片，影片整体那种复古质感也很好。片中周润发多次小马哥附体，颜值，大长腿，最重要的是又雅又痞，风度翩翩，一比这届鲜肉真是弱爆了。郭天王也很好玩，这次演个怂包（伪）。发哥和城城真是强攻&amp;弱受组合，对话完全是个喜剧片（当然两位演技都很棒，搞笑也能立住不垮），看到最后又一切都能说通了，也到最后才知道片名是什么含义。今年国庆档三强，无双、影、李茶的姑妈，居然都是讲一个人的真假身份，有趣。</span>\n",
      "</p><p class=\"\">\n",
      "<span class=\"short\">“我的价值就是作假！”今年国庆档最佳，伪钞版“战争之王”，庄文强擅长犯罪事件描述和正反角色冲突，缺点是有些啰嗦，故事太细生怕观众看不懂。前半段伪钞制作部分大开眼界，后半段人性矛盾激化，高智商人才却选择造假，耐人寻味。结尾大反转，借鉴了两部好莱坞著名作品，但仍然精彩，瞒天过海、以假乱真。演员都不错，发哥暴走段落致敬黄金时代的英雄片，是这个“真实的故事”中浪漫的情怀之梦</span>\n",
      "</p><p class=\"\">\n",
      "<span class=\"short\">做为一名发哥死忠，终于盼到发哥回归港片，表演上依然是潇洒自如、诙谐逗趣，庄文强对故事和人物的打磨也保持一惯的品质，这才是商业片应有的样子。PS：首映红毯蹲守到发哥了啊啊啊啊！！</span>\n",
      "</p><p class=\"\">\n",
      "<span class=\"short\">美术系学生看了会沉默，金融系学生看了会流泪。PS：发哥真的太太太太帅了！！！</span>\n",
      "</p><p class=\"\">\n",
      "<span class=\"short\">又名《伪钞制造教程：从入门到入狱》，零基础教学，不限年龄，不限学历，包学包会包就业，还包坐牢！\n",
      "你可以画出最逼真的假画，可以制造最逼真的假钞，却无法伪造你和阮文的关系。\n",
      "你可以把秀清变成阮文的模样，却无法让阮文真正喜欢你。\n",
      "你只顾着拼命赚钱，从不和阮文说说话，约约会，至始至终未曾踏出半步。\n",
      "而一次冒着生命危险的营救，就让秀清对你私定终身。\n",
      "你看，并不是没有人喜欢你，而是你从来没有付出实际行动，从来没有让她知道你喜欢她。\n",
      "你对一面之缘的秀清做得太多，却对心心念念的阮文做得太少。\n",
      "你以为有了钱就有了一切，可她要的从来都不是巨额存款，而是一句关心的问候，一个温暖的拥抱。\n",
      "钱能买一栋酒店，一艘游艇，但它买不到爱情。\n",
      "假画可以卖钱，假钞可以购物，可是假的阮文终究不是你喜欢的那个人。\n",
      "钞票可以造假，爱情不能造假。</span>\n",
      "</p><p class=\"\">\n",
      "<span class=\"short\">如果不算最后的几个转，前面完全就是爱情故事啊！犯罪大佬悉心调教傻白甜穷画家，给买度假酒店给尽情发挥才华，教他追前女友还帮忙弄死未婚夫，宠溺程度直逼晋江小说，酒店按头那段简直下一秒就要强吻了！周润发穿白西装枪战的一节巨巨巨巨巨帅无比，看得我内心疯狂尖叫，还有一身黑色风衣三件套，身材比例击败当代80%小鲜肉，HE STILL GOT IT!</span>\n",
      "</p><p class=\"\">\n",
      "<span class=\"short\">目测这是国庆档最大赢家。因为其它几部太烂……</span>\n",
      "</p><p class=\"\">\n",
      "<span class=\"short\">7，如此细致描绘伪钞制作过程，还是非常有趣的。周润发的表演，也是近几年他发挥非常出色的一次，魅力十足。尤其是，导演还专门做了一些动作场面，来致敬昔日的发哥，也是迷弟的心愿了。剧情也是一个特别大的讨论点，虽然，可能会被认为是借鉴其他影片，不过，作为一部真与假的电影，倒也算对应，片子也有意讲了很多主角或替身的暗示。真正的遗憾其实是，后面有些地方没有圆得那么完满。</span>\n",
      "</p><p class=\"\">\n",
      "<span class=\"short\">郭富城这个角色 当个画家太可惜了 内心明明住了一个耽美写手 脑补出一整部兄贵养成文</span>\n",
      "</p><p class=\"\">\n",
      "<span class=\"short\">越是轻蔑《无双》，越会被它俘虏。起初看预告的时候觉得烂片，结果看完以后啪啪打脸。想起庄文强采访时说的一句话，“人人都说‘港片已死’，我都没有死，港片怎么会死。”是呀，有庄文强在，港片怎么会死！</span>\n",
      "</p><p class=\"\">\n",
      "<span class=\"short\">比《影》好看哇，周润发完全压制郭富城，全程高能，看得过瘾。没想到印假钞是个技术如此精湛的活...</span>\n",
      "</p><p class=\"\">\n",
      "<span class=\"short\">郭富城演怂逼演的真好！</span>\n",
      "</p><p class=\"\">\n",
      "<span class=\"short\">優雅又殘忍，發哥太迷人。</span>\n",
      "</p><p class=\"\">\n",
      "<span class=\"short\">一帮技术宅男跑去炸金三角基地，编剧你真敢想啊</span>\n",
      "</p><p class=\"\">\n",
      "<span class=\"short\">超出预期，应该是国庆档中最喜欢的一部，非常嫌疑犯版阳光灿烂的日子。说这是非常嫌疑犯玩剩下的老梗其实对庄文强挺不公平的，无双里的反转也许没有非常嫌疑犯里那么精致和到位，但它是带着主题表达的。</span>\n",
      "</p><p class=\"\">\n",
      "<span class=\"short\">《无双》是一部有智商的电影，好久没见这么讲究的港片了，庄文强回到他擅长的一波三折的路线，郭富城饰演这个角色很颠覆，华语电影里比较少见，具有非常精巧的隐蔽性，看似人畜无害实际上可能运筹帷幄，这几年演惯喜剧的发哥在正剧里也气场强大，不遑多让。你看到假钞可能是真钞，你看到名画可能是假画，你身边的爱人可能是假爱人，演员没有人格分裂，观众要看得人格分裂了，眼前的一切还有什么是真的吗？最后一刻见真相。</span>\n",
      "</p><p class=\"\">\n",
      "<span class=\"short\">港片已经衰弱了   ，可以说是差不多死了</span>\n",
      "</p><p class=\"\">\n",
      "<span class=\"short\">失望，后面的反转什么玩意儿，是剧情圆不过来了吗？现在都电子支付，假钞这玩意儿，还有多大的生存空间，脱离的现实，港片落幕</span>\n",
      "</p><p class=\"\">\n",
      "<span class=\"short\">首映放了配音，很冒险，相当于把最本真的表演，全都压在张静初身上（后半段才演出味道），而弃用了郭富城周润发廖启智周家怡等戏骨王牌。八九十年代叫人迷恋的周润发，以一种既恋旧又升级的形式呈现，而郭富城遇到另一高手，总能先让三分，然后再夺五分，厉害得很。二人的对手戏，很有遐想空间，但笑过之后回味，又觉微妙。映后庄文强将之形容为“自恋”，更是精当。也真不愧是庄文强，糟糕配音也盖不住故事的筋道，你以为他夹生的露怯的地方，原来全是伏笔。而且看完才明白，“无双”还真不是一开始所想的那般狭隘。发哥和城城，都遇到了近年最好的剧本。@人民大学，映后还有发哥发嫂暖融融地亮相。四星半，撑下优质港片。会去刷一遍原声。</span>\n",
      "</p>\n"
     ]
    }
   ],
   "source": [
    "print(comments)"
   ]
  },
  {
   "cell_type": "code",
   "execution_count": 23,
   "metadata": {
    "collapsed": true
   },
   "outputs": [],
   "source": [
    "import re\n",
    "pattern= re.compile(r'[一-龥]+')#使用正则表达式去掉标点符号"
   ]
  },
  {
   "cell_type": "code",
   "execution_count": 24,
   "metadata": {
    "collapsed": true
   },
   "outputs": [],
   "source": [
    "filterdata= re.findall(pattern,comments)\n",
    "cleaned_comments= ''.join(filterdata)"
   ]
  },
  {
   "cell_type": "code",
   "execution_count": 25,
   "metadata": {},
   "outputs": [
    {
     "name": "stdout",
     "output_type": "stream",
     "text": [
      "这几年很欣喜有树大招风追龙今年又有这部无双感谢这些导演还能找到初心让港片无法被取代剧情终于不再是简单的黑白对垒和人性光辉主题线的丰富让谎言戳穿的时候留下最痛的纪念品最后重回枪林弹雨的发哥你一定不能错过导演说拍这部电影是想让现在的年轻人知道发哥意味着什么还用问嘛意味着天下无双的帅啊怀揣艺术匠心开创假钞帝国的大亨乍听有点像奥斯卡路数的枭雄传记片影片整体那种复古质感也很好片中周润发多次小马哥附体颜值大长腿最重要的是又雅又痞风度翩翩一比这届鲜肉真是弱爆了郭天王也很好玩这次演个怂包伪发哥和城城真是强攻弱受组合对话完全是个喜剧片当然两位演技都很棒搞笑也能立住不垮看到最后又一切都能说通了也到最后才知道片名是什么含义今年国庆档三强无双影李茶的姑妈居然都是讲一个人的真假身份有趣我的价值就是作假今年国庆档最佳伪钞版战争之王庄文强擅长犯罪事件描述和正反角色冲突缺点是有些啰嗦故事太细生怕观众看不懂前半段伪钞制作部分大开眼界后半段人性矛盾激化高智商人才却选择造假耐人寻味结尾大反转借鉴了两部好莱坞著名作品但仍然精彩瞒天过海以假乱真演员都不错发哥暴走段落致敬黄金时代的英雄片是这个真实的故事中浪漫的情怀之梦做为一名发哥死忠终于盼到发哥回归港片表演上依然是潇洒自如诙谐逗趣庄文强对故事和人物的打磨也保持一惯的品质这才是商业片应有的样子首映红毯蹲守到发哥了啊啊啊啊美术系学生看了会沉默金融系学生看了会流泪发哥真的太太太太帅了又名伪钞制造教程从入门到入狱零基础教学不限年龄不限学历包学包会包就业还包坐牢你可以画出最逼真的假画可以制造最逼真的假钞却无法伪造你和阮文的关系你可以把秀清变成阮文的模样却无法让阮文真正喜欢你你只顾着拼命赚钱从不和阮文说说话约约会至始至终未曾踏出半步而一次冒着生命危险的营救就让秀清对你私定终身你看并不是没有人喜欢你而是你从来没有付出实际行动从来没有让她知道你喜欢她你对一面之缘的秀清做得太多却对心心念念的阮文做得太少你以为有了钱就有了一切可她要的从来都不是巨额存款而是一句关心的问候一个温暖的拥抱钱能买一栋酒店一艘游艇但它买不到爱情假画可以卖钱假钞可以购物可是假的阮文终究不是你喜欢的那个人钞票可以造假爱情不能造假如果不算最后的几个转前面完全就是爱情故事啊犯罪大佬悉心调教傻白甜穷画家给买度假酒店给尽情发挥才华教他追前女友还帮忙弄死未婚夫宠溺程度直逼晋江小说酒店按头那段简直下一秒就要强吻了周润发穿白西装枪战的一节巨巨巨巨巨帅无比看得我内心疯狂尖叫还有一身黑色风衣三件套身材比例击败当代小鲜肉目测这是国庆档最大赢家因为其它几部太烂如此细致描绘伪钞制作过程还是非常有趣的周润发的表演也是近几年他发挥非常出色的一次魅力十足尤其是导演还专门做了一些动作场面来致敬昔日的发哥也是迷弟的心愿了剧情也是一个特别大的讨论点虽然可能会被认为是借鉴其他影片不过作为一部真与假的电影倒也算对应片子也有意讲了很多主角或替身的暗示真正的遗憾其实是后面有些地方没有圆得那么完满郭富城这个角色当个画家太可惜了内心明明住了一个耽美写手脑补出一整部兄贵养成文越是轻蔑无双越会被它俘虏起初看预告的时候觉得烂片结果看完以后啪啪打脸想起庄文强采访时说的一句话人人都说港片已死我都没有死港片怎么会死是呀有庄文强在港片怎么会死比影好看哇周润发完全压制郭富城全程高能看得过瘾没想到印假钞是个技术如此精湛的活郭富城演怂逼演的真好優雅又殘忍發哥太迷人一帮技术宅男跑去炸金三角基地编剧你真敢想啊超出预期应该是国庆档中最喜欢的一部非常嫌疑犯版阳光灿烂的日子说这是非常嫌疑犯玩剩下的老梗其实对庄文强挺不公平的无双里的反转也许没有非常嫌疑犯里那么精致和到位但它是带着主题表达的无双是一部有智商的电影好久没见这么讲究的港片了庄文强回到他擅长的一波三折的路线郭富城饰演这个角色很颠覆华语电影里比较少见具有非常精巧的隐蔽性看似人畜无害实际上可能运筹帷幄这几年演惯喜剧的发哥在正剧里也气场强大不遑多让你看到假钞可能是真钞你看到名画可能是假画你身边的爱人可能是假爱人演员没有人格分裂观众要看得人格分裂了眼前的一切还有什么是真的吗最后一刻见真相港片已经衰弱了可以说是差不多死了失望后面的反转什么玩意儿是剧情圆不过来了吗现在都电子支付假钞这玩意儿还有多大的生存空间脱离的现实港片落幕首映放了配音很冒险相当于把最本真的表演全都压在张静初身上后半段才演出味道而弃用了郭富城周润发廖启智周家怡等戏骨王牌八九十年代叫人迷恋的周润发以一种既恋旧又升级的形式呈现而郭富城遇到另一高手总能先让三分然后再夺五分厉害得很二人的对手戏很有遐想空间但笑过之后回味又觉微妙映后庄文强将之形容为自恋更是精当也真不愧是庄文强糟糕配音也盖不住故事的筋道你以为他夹生的露怯的地方原来全是伏笔而且看完才明白无双还真不是一开始所想的那般狭隘发哥和城城都遇到了近年最好的剧本人民大学映后还有发哥发嫂暖融融地亮相四星半撑下优质港片会去刷一遍原声\n"
     ]
    }
   ],
   "source": [
    "print(cleaned_comments)"
   ]
  },
  {
   "cell_type": "markdown",
   "metadata": {},
   "source": [
    "可以看到此时评论数据中已经没有那些标点符号了，数据变得“干净”了很多。\n",
    "\n",
    "因此要进行词频统计，所以先要进行中文分词操作。在这里我使用的是结巴分词。如果没有安装结巴分词，可以在控制台使用pip install jieba进行安装。\n",
    "（注：可以使用pip list查看是否安装了这些库）。代码如下所示："
   ]
  },
  {
   "cell_type": "code",
   "execution_count": 26,
   "metadata": {
    "collapsed": true
   },
   "outputs": [],
   "source": [
    "import jieba"
   ]
  },
  {
   "cell_type": "code",
   "execution_count": 27,
   "metadata": {},
   "outputs": [
    {
     "name": "stderr",
     "output_type": "stream",
     "text": [
      "Building prefix dict from the default dictionary ...\n",
      "Loading model from cache C:\\Users\\new\\AppData\\Local\\Temp\\jieba.cache\n",
      "Loading model cost 1.689 seconds.\n",
      "Prefix dict has been built succesfully.\n"
     ]
    }
   ],
   "source": [
    "import pandas as pd\n",
    "segment= jieba.lcut(cleaned_comments)#分割应用到清洗好的数据中\n",
    "words_df=pd.DataFrame({'segment':segment})\n",
    "#默认展示分割好的前五个词"
   ]
  },
  {
   "cell_type": "code",
   "execution_count": 28,
   "metadata": {},
   "outputs": [
    {
     "data": {
      "text/html": [
       "<div>\n",
       "<style>\n",
       "    .dataframe thead tr:only-child th {\n",
       "        text-align: right;\n",
       "    }\n",
       "\n",
       "    .dataframe thead th {\n",
       "        text-align: left;\n",
       "    }\n",
       "\n",
       "    .dataframe tbody tr th {\n",
       "        vertical-align: top;\n",
       "    }\n",
       "</style>\n",
       "<table border=\"1\" class=\"dataframe\">\n",
       "  <thead>\n",
       "    <tr style=\"text-align: right;\">\n",
       "      <th></th>\n",
       "      <th>segment</th>\n",
       "    </tr>\n",
       "  </thead>\n",
       "  <tbody>\n",
       "    <tr>\n",
       "      <th>0</th>\n",
       "      <td>这</td>\n",
       "    </tr>\n",
       "    <tr>\n",
       "      <th>1</th>\n",
       "      <td>几年</td>\n",
       "    </tr>\n",
       "    <tr>\n",
       "      <th>2</th>\n",
       "      <td>很</td>\n",
       "    </tr>\n",
       "    <tr>\n",
       "      <th>3</th>\n",
       "      <td>欣喜</td>\n",
       "    </tr>\n",
       "    <tr>\n",
       "      <th>4</th>\n",
       "      <td>有</td>\n",
       "    </tr>\n",
       "  </tbody>\n",
       "</table>\n",
       "</div>"
      ],
      "text/plain": [
       "  segment\n",
       "0       这\n",
       "1      几年\n",
       "2       很\n",
       "3      欣喜\n",
       "4       有"
      ]
     },
     "execution_count": 28,
     "metadata": {},
     "output_type": "execute_result"
    }
   ],
   "source": [
    "words_df.head()"
   ]
  },
  {
   "cell_type": "markdown",
   "metadata": {},
   "source": [
    "把停用词放在一个stopwords.txt文件中，将我们的数据与停用词进行比对即可（注：只要在百度中输入stopwords.txt，就可以下载到该文件）"
   ]
  },
  {
   "cell_type": "code",
   "execution_count": 30,
   "metadata": {},
   "outputs": [],
   "source": [
    "stopwords=pd.read_csv(\"../stopwords.txt\",index_col=False,quoting=3,\\\n",
    "                      sep=\" \",names=['stopword'],encoding='gb18030')\n",
    "#quoting=3全不引用\n",
    "#UnicodeDecodeError: 'utf-8' codec can't decode byte 0xa1 in position 0\n",
    "# Python 编码中编码解码的问题，我这个错误就是‘utf-8’不能解码位置0的那个字节（0xa1），\n",
    "# # 也就是这个字节超出了utf-8的表示范围了.\n",
    "#解决办法：在读取数据的时候，显式添加编码方式encoding='gb18030'，别的编码也可以试试"
   ]
  },
  {
   "cell_type": "code",
   "execution_count": 31,
   "metadata": {
    "collapsed": true
   },
   "outputs": [],
   "source": [
    "words_df=words_df[~words_df.segment.isin(stopwords.stopword)]\n",
    "# 将文本中的非停用词放入words_df:~"
   ]
  },
  {
   "cell_type": "code",
   "execution_count": 32,
   "metadata": {},
   "outputs": [
    {
     "data": {
      "text/html": [
       "<div>\n",
       "<style>\n",
       "    .dataframe thead tr:only-child th {\n",
       "        text-align: right;\n",
       "    }\n",
       "\n",
       "    .dataframe thead th {\n",
       "        text-align: left;\n",
       "    }\n",
       "\n",
       "    .dataframe tbody tr th {\n",
       "        vertical-align: top;\n",
       "    }\n",
       "</style>\n",
       "<table border=\"1\" class=\"dataframe\">\n",
       "  <thead>\n",
       "    <tr style=\"text-align: right;\">\n",
       "      <th></th>\n",
       "      <th>segment</th>\n",
       "    </tr>\n",
       "  </thead>\n",
       "  <tbody>\n",
       "    <tr>\n",
       "      <th>1</th>\n",
       "      <td>几年</td>\n",
       "    </tr>\n",
       "    <tr>\n",
       "      <th>3</th>\n",
       "      <td>欣喜</td>\n",
       "    </tr>\n",
       "    <tr>\n",
       "      <th>5</th>\n",
       "      <td>树大招风</td>\n",
       "    </tr>\n",
       "    <tr>\n",
       "      <th>6</th>\n",
       "      <td>追龙</td>\n",
       "    </tr>\n",
       "    <tr>\n",
       "      <th>7</th>\n",
       "      <td>今年</td>\n",
       "    </tr>\n",
       "  </tbody>\n",
       "</table>\n",
       "</div>"
      ],
      "text/plain": [
       "  segment\n",
       "1      几年\n",
       "3      欣喜\n",
       "5    树大招风\n",
       "6      追龙\n",
       "7      今年"
      ]
     },
     "execution_count": 32,
     "metadata": {},
     "output_type": "execute_result"
    }
   ],
   "source": [
    "#停用词已经被出去 \"这”，“很“，”有’\n",
    "words_df.head()"
   ]
  },
  {
   "cell_type": "code",
   "execution_count": 33,
   "metadata": {
    "collapsed": true
   },
   "outputs": [],
   "source": [
    "# 进行词频统计\n",
    "import numpy #numpy计算包"
   ]
  },
  {
   "cell_type": "code",
   "execution_count": 34,
   "metadata": {},
   "outputs": [
    {
     "name": "stderr",
     "output_type": "stream",
     "text": [
      "C:\\Users\\new\\Anaconda3\\lib\\site-packages\\ipykernel_launcher.py:2: FutureWarning: using a dict on a Series for aggregation\n",
      "is deprecated and will be removed in a future version\n",
      "  \n"
     ]
    }
   ],
   "source": [
    "# 列;segment/计数\n",
    "words_stat=words_df.groupby(by=['segment'])['segment'].agg\\\n",
    "           ({\"计数\":numpy.size})"
   ]
  },
  {
   "cell_type": "code",
   "execution_count": 35,
   "metadata": {
    "collapsed": true
   },
   "outputs": [],
   "source": [
    "# 降序排列\n",
    "words_stat=words_stat.reset_index().sort_values\\\n",
    "           (by=[\"计数\"],ascending=False)"
   ]
  },
  {
   "cell_type": "code",
   "execution_count": 36,
   "metadata": {},
   "outputs": [
    {
     "data": {
      "text/html": [
       "<div>\n",
       "<style>\n",
       "    .dataframe thead tr:only-child th {\n",
       "        text-align: right;\n",
       "    }\n",
       "\n",
       "    .dataframe thead th {\n",
       "        text-align: left;\n",
       "    }\n",
       "\n",
       "    .dataframe tbody tr th {\n",
       "        vertical-align: top;\n",
       "    }\n",
       "</style>\n",
       "<table border=\"1\" class=\"dataframe\">\n",
       "  <thead>\n",
       "    <tr style=\"text-align: right;\">\n",
       "      <th></th>\n",
       "      <th>segment</th>\n",
       "      <th>计数</th>\n",
       "    </tr>\n",
       "  </thead>\n",
       "  <tbody>\n",
       "    <tr>\n",
       "      <th>129</th>\n",
       "      <td>发哥</td>\n",
       "      <td>12</td>\n",
       "    </tr>\n",
       "    <tr>\n",
       "      <th>345</th>\n",
       "      <td>港片</td>\n",
       "      <td>9</td>\n",
       "    </tr>\n",
       "    <tr>\n",
       "      <th>227</th>\n",
       "      <td>庄文强</td>\n",
       "      <td>7</td>\n",
       "    </tr>\n",
       "    <tr>\n",
       "      <th>290</th>\n",
       "      <td>无双</td>\n",
       "      <td>6</td>\n",
       "    </tr>\n",
       "    <tr>\n",
       "      <th>521</th>\n",
       "      <td>郭富城</td>\n",
       "      <td>6</td>\n",
       "    </tr>\n",
       "  </tbody>\n",
       "</table>\n",
       "</div>"
      ],
      "text/plain": [
       "    segment  计数\n",
       "129      发哥  12\n",
       "345      港片   9\n",
       "227     庄文强   7\n",
       "290      无双   6\n",
       "521     郭富城   6"
      ]
     },
     "execution_count": 36,
     "metadata": {},
     "output_type": "execute_result"
    }
   ],
   "source": [
    "# 用words_stat.head()进行查看，结果如下：\n",
    "words_stat.head()"
   ]
  },
  {
   "cell_type": "markdown",
   "metadata": {},
   "source": [
    "前面只是爬取了第一页的评论，所以数据有点少，在最后给出的完整代码中，我爬取了10页的评论，所数据还是有参考价值"
   ]
  },
  {
   "cell_type": "markdown",
   "metadata": {},
   "source": [
    "三、用词云进行显示"
   ]
  },
  {
   "cell_type": "code",
   "execution_count": 37,
   "metadata": {
    "collapsed": true
   },
   "outputs": [],
   "source": [
    "# 画图的引用包\n",
    "import matplotlib.pyplot as plt"
   ]
  },
  {
   "cell_type": "code",
   "execution_count": 38,
   "metadata": {
    "collapsed": true
   },
   "outputs": [],
   "source": [
    "# %matplotlibinline\n",
    "import matplotlib"
   ]
  },
  {
   "cell_type": "code",
   "execution_count": 39,
   "metadata": {
    "collapsed": true
   },
   "outputs": [],
   "source": [
    "matplotlib.rcParams['figure.figsize']= (10.0,5.0)"
   ]
  },
  {
   "cell_type": "code",
   "execution_count": 40,
   "metadata": {
    "collapsed": true
   },
   "outputs": [],
   "source": [
    "from wordcloud import WordCloud#词云包 第一次未安装时报错No module named 'wordcloud'"
   ]
  },
  {
   "cell_type": "code",
   "execution_count": 41,
   "metadata": {
    "collapsed": true
   },
   "outputs": [],
   "source": [
    "from scipy.misc import imread #方法2引用包\n",
    "color_mask=imread('./头像.png')#方法2"
   ]
  },
  {
   "cell_type": "code",
   "execution_count": 42,
   "metadata": {
    "collapsed": true
   },
   "outputs": [],
   "source": [
    "wordcloud=WordCloud(font_path=\"simhei.ttf\",background_color=\"white\",\\\n",
    "                    max_font_size=80,mask=color_mask)#指定字体类型、字体大小和字体颜色"
   ]
  },
  {
   "cell_type": "code",
   "execution_count": 43,
   "metadata": {},
   "outputs": [
    {
     "data": {
      "image/png": "[encoded data removed]",
      "text/plain": [
       "<matplotlib.figure.Figure at 0xd9061b0>"
      ]
     },
     "metadata": {},
     "output_type": "display_data"
    }
   ],
   "source": [
    "# x[0]\\x[1]表示\n",
    "word_frequence = {x[0]: x[1] for x in words_stat.head(1000).values}\n",
    "word_frequence_list1 = []\n",
    "word_frequence_list2 = []\n",
    "for key in word_frequence:\n",
    "#     temp = (key,word_frequence[key])\n",
    "      word_frequence_list1.append(key)\n",
    "      word_frequence_list2.append(word_frequence[key])\n",
    "# word_dict\n",
    "word_dict = zip(word_frequence_list1, word_frequence_list2)#压缩\n",
    "word_dict = dict((name, value) for name, value in word_dict)#放进字典word_dict\n",
    "wordcloud = wordcloud.fit_words(word_dict)\n",
    "plt.imshow(wordcloud)\n",
    "plt.axis(\"off\")\n",
    "plt.show()\n",
    "# 一是修改了数据类型，将word_pfrequence_list的list转换成word_dict的dict.\n",
    "# 一是图片显示命令"
   ]
  },
  {
   "cell_type": "markdown",
   "metadata": {},
   "source": [
    "第二种方法：直接在WordCloud函数中处理清洗后的数据"
   ]
  },
  {
   "cell_type": "code",
   "execution_count": 44,
   "metadata": {
    "collapsed": true
   },
   "outputs": [],
   "source": [
    "from scipy.misc import imread #方法2引用包\n",
    "color_mask=imread('./头像.png')#方法2"
   ]
  },
  {
   "cell_type": "code",
   "execution_count": 45,
   "metadata": {},
   "outputs": [
    {
     "data": {
      "image/png": "[encoded data removed]",
      "text/plain": [
       "<matplotlib.figure.Figure at 0xd94bbb0>"
      ]
     },
     "metadata": {},
     "output_type": "display_data"
    },
    {
     "data": {
      "text/plain": [
       "<wordcloud.wordcloud.WordCloud at 0xd99e1b0>"
      ]
     },
     "execution_count": 45,
     "metadata": {},
     "output_type": "execute_result"
    }
   ],
   "source": [
    "# 最简单的形式\n",
    "# 词云图的形状\n",
    "content= cleaned_comments #清洗过的数据\n",
    "wordcloud = WordCloud(font_path=\"simhei.ttf\",\n",
    "                      background_color=\"white\",#设置背景为白色，默认为黑色\n",
    "                      mask=color_mask,          #应用图象 方法2\n",
    "                      width=990,               #设置图片的宽度\n",
    "                      height=600,              #设置图片的高度\n",
    "                      margin=10,               #设置图片的边缘\n",
    "                      max_font_size=50,\n",
    "                      random_state=30,\n",
    "                     ).\\\n",
    "              generate(' '.join([\" \".join(jieba.cut(content))]))\n",
    "' '.join([\" \".join(jieba.cut(content))])\n",
    "word_list = [\" \".join(jieba.cut(content))]\n",
    "new_text = ' '.join([\" \".join(jieba.cut(content))])\n",
    "#开始画图\n",
    "plt.imshow(wordcloud)\n",
    "#为云图去掉坐标轴\n",
    "plt.axis(\"off\")\n",
    "#画云图，显示\n",
    "plt.show()\n",
    "#保存云图\n",
    "wordcloud.to_file(\"./tu1.jpg\")"
   ]
  },
  {
   "cell_type": "code",
   "execution_count": null,
   "metadata": {
    "collapsed": true
   },
   "outputs": [],
   "source": []
  }
 ],
 "metadata": {
  "kernelspec": {
   "display_name": "Python 3",
   "language": "python",
   "name": "python3"
  },
  "language_info": {
   "codemirror_mode": {
    "name": "ipython",
    "version": 3
   },
   "file_extension": ".py",
   "mimetype": "text/x-python",
   "name": "python",
   "nbconvert_exporter": "python",
   "pygments_lexer": "ipython3",
   "version": "3.6.1"
  }
 },
 "nbformat": 4,
 "nbformat_minor": 2
}
