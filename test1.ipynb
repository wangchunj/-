{
 "cells": [
  {
   "cell_type": "code",
   "execution_count": 1,
   "metadata": {
    "collapsed": true
   },
   "outputs": [],
   "source": [
    "import numpy as np\n",
    "from numpy import genfromtxt"
   ]
  },
  {
   "cell_type": "code",
   "execution_count": 2,
   "metadata": {
    "collapsed": true
   },
   "outputs": [],
   "source": [
    "dataPath = \"test.csv\"\n",
    "dataSet = genfromtxt(dataPath, delimiter=',')"
   ]
  },
  {
   "cell_type": "code",
   "execution_count": 3,
   "metadata": {
    "collapsed": true
   },
   "outputs": [],
   "source": [
    "def getData(dataSet):\n",
    "    m, n = np.shape(dataSet)\n",
    "    trainData = np.ones((m, n))\n",
    "    trainData[:,:-1] = dataSet[:,:-1]\n",
    "    trainLabel = dataSet[:,-1]\n",
    "    return trainData, trainLabel"
   ]
  },
  {
   "cell_type": "code",
   "execution_count": 6,
   "metadata": {
    "collapsed": true
   },
   "outputs": [],
   "source": [
    "def batchGradientDescent(x, y, theta, alpha, m, maxIterations):\n",
    "    xTrains = x.transpose()\n",
    "    for i in range(0, maxIterations):\n",
    "        hypothesis = np.dot(x, theta)\n",
    "        loss = hypothesis - y\n",
    "        # print loss\n",
    "        gradient = np.dot(xTrains, loss) / m\n",
    "        theta = theta - alpha * gradient\n",
    "    return theta"
   ]
  },
  {
   "cell_type": "code",
   "execution_count": 23,
   "metadata": {
    "collapsed": true
   },
   "outputs": [],
   "source": [
    "trainData, trainLabel = getData(dataSet)\n",
    "m, n = np.shape(trainData)\n",
    "theta = np.ones(n)\n",
    "alpha = 0.1\n",
    "maxIteration = 10000"
   ]
  },
  {
   "cell_type": "code",
   "execution_count": 24,
   "metadata": {},
   "outputs": [],
   "source": [
    "theta = batchGradientDescent(trainData, trainLabel, theta, alpha, m, maxIteration)"
   ]
  },
  {
   "cell_type": "code",
   "execution_count": 29,
   "metadata": {},
   "outputs": [
    {
     "data": {
      "text/plain": [
       "4.9844950352038184"
      ]
     },
     "execution_count": 29,
     "metadata": {},
     "output_type": "execute_result"
    }
   ],
   "source": [
    "theta[2]"
   ]
  },
  {
   "cell_type": "code",
   "execution_count": 36,
   "metadata": {},
   "outputs": [
    {
     "data": {
      "text/plain": [
       "array([ 1.93118561,  3.93668507,  4.98449504])"
      ]
     },
     "execution_count": 36,
     "metadata": {},
     "output_type": "execute_result"
    }
   ],
   "source": [
    "import numpy as np\n",
    "import random\n",
    "from numpy import genfromtxt\n",
    "\n",
    "def getData(dataSet):\n",
    "    m, n = np.shape(dataSet)\n",
    "    trainData = np.ones((m, n))\n",
    "    trainData[:,:-1] = dataSet[:,:-1]\n",
    "    trainLabel = dataSet[:,-1]\n",
    "    return trainData, trainLabel\n",
    "\n",
    "def batchGradientDescent(x, y, theta, alpha, m, maxIterations):\n",
    "    xTrains = x.transpose()\n",
    "    for i in range(0, maxIterations):\n",
    "        hypothesis = np.dot(x, theta)\n",
    "        loss = hypothesis - y\n",
    "        # print loss\n",
    "        gradient = np.dot(xTrains, loss) / m\n",
    "        theta = theta - alpha * gradient\n",
    "        if theta[1]*theta[1]+theta[2]*theta[2]<0.00000001:\n",
    "                return theta\n",
    "    return theta\n",
    "\n",
    "def predict(x, theta):\n",
    "    m, n = np.shape(x)\n",
    "    xTest = np.ones((m, n+1))\n",
    "    xTest[:, :-1] = x\n",
    "    yP = np.dot(xTest, theta)\n",
    "    return yP\n",
    "\n",
    "dataPath = \"test.csv\"\n",
    "dataSet = genfromtxt(dataPath, delimiter=',')\n",
    "trainData, trainLabel = getData(dataSet)\n",
    "m, n = np.shape(trainData)\n",
    "theta = np.ones(n)\n",
    "alpha = 0.05\n",
    "maxIteration = 10000\n",
    "theta = batchGradientDescent(trainData, trainLabel, theta, alpha, m, maxIteration)\n",
    "theta"
   ]
  },
  {
   "cell_type": "code",
   "execution_count": null,
   "metadata": {
    "collapsed": true
   },
   "outputs": [],
   "source": []
  }
 ],
 "metadata": {
  "kernelspec": {
   "display_name": "Python 3",
   "language": "python",
   "name": "python3"
  },
  "language_info": {
   "codemirror_mode": {
    "name": "ipython",
    "version": 3
   },
   "file_extension": ".py",
   "mimetype": "text/x-python",
   "name": "python",
   "nbconvert_exporter": "python",
   "pygments_lexer": "ipython3",
   "version": "3.6.1"
  }
 },
 "nbformat": 4,
 "nbformat_minor": 2
}
